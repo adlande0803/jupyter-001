{
 "cells": [
  {
   "cell_type": "markdown",
   "id": "d036becb",
   "metadata": {},
   "source": [
    "# # # NUMpy 1 { Air bnb} NPS "
   ]
  },
  {
   "cell_type": "code",
   "execution_count": 3,
   "id": "6c1f3251",
   "metadata": {},
   "outputs": [
    {
     "name": "stdout",
     "output_type": "stream",
     "text": [
      "[1, 2, 3, True, 'aditya', 'a']\n"
     ]
    }
   ],
   "source": [
    "a=[1,2,3,True,\"aditya\",\"a\"]\n",
    "print(a)"
   ]
  },
  {
   "cell_type": "code",
   "execution_count": 4,
   "id": "33496118",
   "metadata": {},
   "outputs": [],
   "source": [
    "# above we can see that list is accpeting all type of data \n",
    "#it look somthing somthing like {LIST} of python "
   ]
  },
  {
   "cell_type": "code",
   "execution_count": null,
   "id": "662484bf",
   "metadata": {},
   "outputs": [],
   "source": []
  },
  {
   "cell_type": "code",
   "execution_count": null,
   "id": "1d708033",
   "metadata": {},
   "outputs": [],
   "source": [
    "\"\"\"NumPy is a library for the Python programming language, adding support for large, \n",
    "   multi-dimensional arrays and matrices,\n",
    "  along with a large collection of high-level mathematical functions to operate on these arrays.\"\"\""
   ]
  },
  {
   "cell_type": "code",
   "execution_count": 5,
   "id": "1dc7e0e0",
   "metadata": {},
   "outputs": [],
   "source": [
    "# let installe the NUMpy first then we see exicution part "
   ]
  },
  {
   "cell_type": "code",
   "execution_count": 2,
   "id": "6919b275",
   "metadata": {},
   "outputs": [
    {
     "name": "stdout",
     "output_type": "stream",
     "text": [
      "Requirement already satisfied: numpy in e:\\sangh\\new folder\\lib\\site-packages (1.23.5)\n"
     ]
    }
   ],
   "source": [
    "!pip install numpy"
   ]
  },
  {
   "cell_type": "code",
   "execution_count": 5,
   "id": "740f846b",
   "metadata": {},
   "outputs": [],
   "source": [
    "import numpy as np"
   ]
  },
  {
   "cell_type": "code",
   "execution_count": 10,
   "id": "b2104c86",
   "metadata": {},
   "outputs": [
    {
     "data": {
      "text/plain": [
       "6"
      ]
     },
     "execution_count": 10,
     "metadata": {},
     "output_type": "execute_result"
    }
   ],
   "source": [
    "# here we use np as allias for numpy\n",
    "np.abs(-6) "
   ]
  },
  {
   "cell_type": "code",
   "execution_count": 21,
   "id": "931269fa",
   "metadata": {},
   "outputs": [
    {
     "name": "stdout",
     "output_type": "stream",
     "text": [
      "[1, 4, 9, 16, 25]\n"
     ]
    }
   ],
   "source": [
    "b=[]\n",
    "a=[1,2,3,4,5]\n",
    "for i in range(len(a)):\n",
    "    b.append(a[i]**2)\n",
    "print(b)"
   ]
  },
  {
   "cell_type": "code",
   "execution_count": 18,
   "id": "3ba7eeb6",
   "metadata": {},
   "outputs": [],
   "source": [
    "# above is the example of how we execute in python get the squre of list element"
   ]
  },
  {
   "cell_type": "code",
   "execution_count": null,
   "id": "a18457b3",
   "metadata": {},
   "outputs": [],
   "source": [
    "# NOW WE SEE HOW WE CAN GET SQUARE OF LIST WITH HELP OF NUMPY"
   ]
  },
  {
   "cell_type": "code",
   "execution_count": 20,
   "id": "adad5246",
   "metadata": {},
   "outputs": [
    {
     "data": {
      "text/plain": [
       "array([ 1,  4,  9, 16, 25])"
      ]
     },
     "execution_count": 20,
     "metadata": {},
     "output_type": "execute_result"
    }
   ],
   "source": [
    "#first we have to convert abpve list a in numpy array \n",
    "arr=np.array(a)\n",
    "# IN SECODE PART WE JUST HAVE TO EXEDIRECTLY FROM\n",
    "arr**2"
   ]
  },
  {
   "cell_type": "code",
   "execution_count": null,
   "id": "0ed156aa",
   "metadata": {},
   "outputs": [],
   "source": [
    "# we can obserbe that we directly multiply the the whole array at once without use if loops "
   ]
  },
  {
   "cell_type": "code",
   "execution_count": null,
   "id": "31e92c27",
   "metadata": {},
   "outputs": [],
   "source": []
  },
  {
   "cell_type": "raw",
   "id": "8b90c863",
   "metadata": {},
   "source": [
    "LETS SEE HOW FAST IS NUMPY VS PYTHON"
   ]
  },
  {
   "cell_type": "code",
   "execution_count": 34,
   "id": "e4eaa476",
   "metadata": {},
   "outputs": [
    {
     "data": {
      "text/plain": [
       "[0, 1, 2, 3, 4, 5, 6, 7, 8, 9]"
      ]
     },
     "execution_count": 34,
     "metadata": {},
     "output_type": "execute_result"
    }
   ],
   "source": [
    "lst=list(range(10000))\n",
    "lst[:10]"
   ]
  },
  {
   "cell_type": "code",
   "execution_count": 37,
   "id": "c779d8ee",
   "metadata": {},
   "outputs": [
    {
     "name": "stdout",
     "output_type": "stream",
     "text": [
      "1.25 ms ± 164 µs per loop (mean ± std. dev. of 7 runs, 1,000 loops each)\n"
     ]
    }
   ],
   "source": [
    "#now we see how this pyhton list will time to execute\n",
    "%timeit [i*i for i in lst ]"
   ]
  },
  {
   "cell_type": "code",
   "execution_count": null,
   "id": "d3a9962d",
   "metadata": {},
   "outputs": [],
   "source": [
    "# now we have got that how much time python list is taking to get execute IS = {1.25 MILI SECONDS ± 164 µs per loop}"
   ]
  },
  {
   "cell_type": "code",
   "execution_count": 41,
   "id": "b3a33665",
   "metadata": {},
   "outputs": [
    {
     "name": "stdout",
     "output_type": "stream",
     "text": [
      "[   0    1    2 ... 9997 9998 9999]\n"
     ]
    }
   ],
   "source": [
    "arr2= np.array(lst)\n",
    "print(arr2)"
   ]
  },
  {
   "cell_type": "code",
   "execution_count": 42,
   "id": "d928cd0c",
   "metadata": {},
   "outputs": [
    {
     "name": "stdout",
     "output_type": "stream",
     "text": [
      "67.2 ns ± 4.65 ns per loop (mean ± std. dev. of 7 runs, 10,000,000 loops each)\n"
     ]
    }
   ],
   "source": [
    "%timeit (arr2)"
   ]
  },
  {
   "cell_type": "code",
   "execution_count": 43,
   "id": "b7e3fc39",
   "metadata": {},
   "outputs": [],
   "source": [
    "# now we have got that how much time NUMPY array is taking to get execute IS = {67.2 NANO SECONDS ± 4.65 ns per loop}"
   ]
  },
  {
   "cell_type": "code",
   "execution_count": null,
   "id": "b4110b9d",
   "metadata": {},
   "outputs": [],
   "source": [
    "#THIS MUCH NUMPY IS FASTER THAN THE PYTHON"
   ]
  },
  {
   "cell_type": "code",
   "execution_count": null,
   "id": "649c75bf",
   "metadata": {},
   "outputs": [],
   "source": []
  },
  {
   "cell_type": "markdown",
   "id": "8b9e9a60",
   "metadata": {},
   "source": [
    "# # # Dimention   &    Shapes"
   ]
  },
  {
   "cell_type": "code",
   "execution_count": 44,
   "id": "9274ec38",
   "metadata": {},
   "outputs": [],
   "source": [
    "# let see with the example"
   ]
  },
  {
   "cell_type": "code",
   "execution_count": 47,
   "id": "f09fc50b",
   "metadata": {},
   "outputs": [
    {
     "data": {
      "text/plain": [
       "array([ 0,  1,  2,  3,  4,  5,  6,  7,  8,  9, 10, 11, 12, 13, 14, 15, 16,\n",
       "       17, 18, 19, 20, 21, 22, 23, 24, 25, 26, 27, 28, 29, 30, 31, 32, 33,\n",
       "       34, 35, 36, 37, 38, 39, 40, 41, 42, 43, 44, 45, 46, 47, 48, 49])"
      ]
     },
     "execution_count": 47,
     "metadata": {},
     "output_type": "execute_result"
    }
   ],
   "source": [
    "arr=np.array(range(50))\n",
    "arr"
   ]
  },
  {
   "cell_type": "markdown",
   "id": "d25f2cb2",
   "metadata": {},
   "source": [
    " TO SEE THE DIMENTION OF THIS ARRY WE HAVE TO USE ATTRIBUTE CALLE {ndim}"
   ]
  },
  {
   "cell_type": "code",
   "execution_count": 48,
   "id": "5d4c3545",
   "metadata": {},
   "outputs": [
    {
     "data": {
      "text/plain": [
       "1"
      ]
     },
     "execution_count": 48,
     "metadata": {},
     "output_type": "execute_result"
    }
   ],
   "source": [
    "arr.ndim"
   ]
  },
  {
   "cell_type": "code",
   "execution_count": null,
   "id": "e4bc95f9",
   "metadata": {},
   "outputs": [],
   "source": [
    "# this above ndim attribute show us that array arr is have one DIAMENTION......"
   ]
  },
  {
   "cell_type": "code",
   "execution_count": null,
   "id": "c2ada647",
   "metadata": {},
   "outputs": [],
   "source": []
  },
  {
   "cell_type": "code",
   "execution_count": null,
   "id": "6bce82d3",
   "metadata": {},
   "outputs": [],
   "source": []
  },
  {
   "cell_type": "code",
   "execution_count": null,
   "id": "dccf6cab",
   "metadata": {},
   "outputs": [],
   "source": []
  },
  {
   "cell_type": "raw",
   "id": "48201de4",
   "metadata": {},
   "source": [
    "NOW WE SEE HOW TO CHEAK THE SHAPE OF OUR ARRAY (TO DO THAT WE HAVE TO USE ATTRIBUTE CALLED {shape}"
   ]
  },
  {
   "cell_type": "code",
   "execution_count": 49,
   "id": "d7d8a8c9",
   "metadata": {},
   "outputs": [
    {
     "data": {
      "text/plain": [
       "(50,)"
      ]
     },
     "execution_count": 49,
     "metadata": {},
     "output_type": "execute_result"
    }
   ],
   "source": [
    "arr.shape"
   ]
  },
  {
   "cell_type": "code",
   "execution_count": 50,
   "id": "cafc2499",
   "metadata": {},
   "outputs": [],
   "source": [
    "# it return the (50 ,) a tuple, which means we it is 1 dimention array"
   ]
  },
  {
   "cell_type": "code",
   "execution_count": null,
   "id": "18f104ba",
   "metadata": {},
   "outputs": [],
   "source": []
  },
  {
   "cell_type": "raw",
   "id": "aed9ffd6",
   "metadata": {},
   "source": [
    "NOW WE SEE HOW TO BUILD THE 2D ARRAY "
   ]
  },
  {
   "cell_type": "code",
   "execution_count": 51,
   "id": "a6708da0",
   "metadata": {},
   "outputs": [],
   "source": [
    "# THIS IS SOMETHING SOMTHING LIKE 2D LIST "
   ]
  },
  {
   "cell_type": "code",
   "execution_count": 52,
   "id": "bf208d70",
   "metadata": {},
   "outputs": [
    {
     "data": {
      "text/plain": [
       "array([[1, 2, 3],\n",
       "       [4, 5, 6],\n",
       "       [7, 8, 9]])"
      ]
     },
     "execution_count": 52,
     "metadata": {},
     "output_type": "execute_result"
    }
   ],
   "source": [
    "MAT = [[1,2,3],[4,5,6],[7,8,9]]\n",
    "MAT1=np.array(MAT)\n",
    "MAT1"
   ]
  },
  {
   "cell_type": "code",
   "execution_count": 53,
   "id": "619110b4",
   "metadata": {},
   "outputs": [],
   "source": [
    "#NOW CHEQE THE DIMENTION {IT WILL SHOW US NUMBER OF DIMENTION WITH RESPECT TO AXIS}"
   ]
  },
  {
   "cell_type": "code",
   "execution_count": 54,
   "id": "e849365f",
   "metadata": {},
   "outputs": [
    {
     "data": {
      "text/plain": [
       "2"
      ]
     },
     "execution_count": 54,
     "metadata": {},
     "output_type": "execute_result"
    }
   ],
   "source": [
    "MAT1.ndim"
   ]
  },
  {
   "cell_type": "code",
   "execution_count": null,
   "id": "ee2afc88",
   "metadata": {},
   "outputs": [],
   "source": [
    "# see it showing that this array is the 2 d array with respect to AXIS"
   ]
  },
  {
   "cell_type": "code",
   "execution_count": 56,
   "id": "1f4c5a6b",
   "metadata": {},
   "outputs": [
    {
     "data": {
      "text/plain": [
       "(3, 3)"
      ]
     },
     "execution_count": 56,
     "metadata": {},
     "output_type": "execute_result"
    }
   ],
   "source": [
    "# let cheak the shape\n",
    "MAT1.shape\n",
    "# it will show us dimention are there and how many element each dimeantion contains "
   ]
  },
  {
   "cell_type": "markdown",
   "id": "8ea447fc",
   "metadata": {},
   "source": [
    "# ndim represents the number of dimensions (axes) of the ndarray. shape is a tuple of integers representing the size of the ndarray in each dimensioN"
   ]
  },
  {
   "cell_type": "code",
   "execution_count": null,
   "id": "37f047da",
   "metadata": {},
   "outputs": [],
   "source": []
  },
  {
   "cell_type": "markdown",
   "id": "07e56628",
   "metadata": {},
   "source": [
    "# arrange { function }"
   ]
  },
  {
   "cell_type": "code",
   "execution_count": 57,
   "id": "f6e2849a",
   "metadata": {},
   "outputs": [],
   "source": [
    "# let see with the example "
   ]
  },
  {
   "cell_type": "code",
   "execution_count": 62,
   "id": "3cdc60f3",
   "metadata": {},
   "outputs": [
    {
     "data": {
      "text/plain": [
       "array([1, 2, 3, 4])"
      ]
     },
     "execution_count": 62,
     "metadata": {},
     "output_type": "execute_result"
    }
   ],
   "source": [
    "np.arange(1,5)"
   ]
  },
  {
   "cell_type": "code",
   "execution_count": null,
   "id": "38531be3",
   "metadata": {},
   "outputs": [],
   "source": [
    "# it is working just like range function of python, it take START AND STOP and return the list inside the tuple AND end is exluded"
   ]
  },
  {
   "cell_type": "code",
   "execution_count": 63,
   "id": "560c7150",
   "metadata": {},
   "outputs": [
    {
     "data": {
      "text/plain": [
       "array([1, 3, 5, 7, 9])"
      ]
     },
     "execution_count": 63,
     "metadata": {},
     "output_type": "execute_result"
    }
   ],
   "source": [
    "np.arange(1,10,2)"
   ]
  },
  {
   "cell_type": "code",
   "execution_count": 64,
   "id": "1436cd70",
   "metadata": {},
   "outputs": [],
   "source": [
    "# here write the numpy code with some extra commenad in{ ARANGE }fucntion \n",
    "#above we  give start=1, stop=10, step= 2 just like list of python"
   ]
  },
  {
   "cell_type": "code",
   "execution_count": null,
   "id": "042d8c16",
   "metadata": {},
   "outputs": [],
   "source": []
  },
  {
   "cell_type": "raw",
   "id": "ded880a3",
   "metadata": {},
   "source": [
    "ANOTHER best point of  numpy is we can give step command is float also ,\n",
    "let see how it will work with the help of example "
   ]
  },
  {
   "cell_type": "code",
   "execution_count": 66,
   "id": "4474ef29",
   "metadata": {},
   "outputs": [
    {
     "data": {
      "text/plain": [
       "array([1. , 1.5, 2. , 2.5, 3. , 3.5, 4. , 4.5, 5. , 5.5, 6. , 6.5, 7. ,\n",
       "       7.5, 8. , 8.5, 9. , 9.5])"
      ]
     },
     "execution_count": 66,
     "metadata": {},
     "output_type": "execute_result"
    }
   ],
   "source": [
    "np.arange(1,10,0.5)"
   ]
  },
  {
   "cell_type": "code",
   "execution_count": 68,
   "id": "66861e0d",
   "metadata": {},
   "outputs": [],
   "source": [
    "# see our numpy function give us the array with float steps!!!!!!!!!!!!!!!!!!!!!!!!!!1\n",
    "# all element are float value  beacuse numpy array are homogenuis in nature"
   ]
  },
  {
   "cell_type": "code",
   "execution_count": 69,
   "id": "6ca5b7ba",
   "metadata": {},
   "outputs": [],
   "source": [
    "# let see if we pass the array with  stirng and integer what will be the output    "
   ]
  },
  {
   "cell_type": "code",
   "execution_count": 70,
   "id": "f87debd0",
   "metadata": {},
   "outputs": [
    {
     "data": {
      "text/plain": [
       "array(['1', '2', '3', 'kola', '0', '4', '4', '7'], dtype='<U11')"
      ]
     },
     "execution_count": 70,
     "metadata": {},
     "output_type": "execute_result"
    }
   ],
   "source": [
    "np.array([1,2,3,\"kola\",0,4,4,7])"
   ]
  },
  {
   "cell_type": "code",
   "execution_count": 72,
   "id": "d3dce35f",
   "metadata": {},
   "outputs": [],
   "source": [
    "#AS YOU SEE ALL VALUE ARE GET CONVERTED INTO STRING \n",
    "#BEACASUE STRINGS are more in number than the INT values"
   ]
  },
  {
   "cell_type": "markdown",
   "id": "8df9548e",
   "metadata": {},
   "source": [
    "# CONVERT THE DATA TYPE OF ARRAY  with dtype fucntion"
   ]
  },
  {
   "cell_type": "code",
   "execution_count": 73,
   "id": "476f53ee",
   "metadata": {},
   "outputs": [],
   "source": [
    "#LET SEE WITH HELP OF EXAMPLE "
   ]
  },
  {
   "cell_type": "code",
   "execution_count": 74,
   "id": "3a57c6ed",
   "metadata": {},
   "outputs": [
    {
     "data": {
      "text/plain": [
       "array([1., 2., 3., 4., 5.])"
      ]
     },
     "execution_count": 74,
     "metadata": {},
     "output_type": "execute_result"
    }
   ],
   "source": [
    "np.array([1,2,3,4,5],dtype='float')"
   ]
  },
  {
   "cell_type": "markdown",
   "id": "d83c9260",
   "metadata": {},
   "source": [
    " this is how all interger are get converted into flaot with help of { dtype }function"
   ]
  },
  {
   "cell_type": "code",
   "execution_count": null,
   "id": "2182d353",
   "metadata": {},
   "outputs": [],
   "source": []
  },
  {
   "cell_type": "markdown",
   "id": "aa3e67a7",
   "metadata": {},
   "source": [
    "# convert data type with help of  astype function "
   ]
  },
  {
   "cell_type": "code",
   "execution_count": 76,
   "id": "1226f323",
   "metadata": {},
   "outputs": [
    {
     "data": {
      "text/plain": [
       "array([1, 2, 4, 5, 6])"
      ]
     },
     "execution_count": 76,
     "metadata": {},
     "output_type": "execute_result"
    }
   ],
   "source": [
    "#let see with the help of example \n",
    "ssr=np.array([1,2,4,5,6])\n",
    "ssr"
   ]
  },
  {
   "cell_type": "code",
   "execution_count": 78,
   "id": "cc2b2e92",
   "metadata": {},
   "outputs": [
    {
     "data": {
      "text/plain": [
       "array([1., 2., 4., 5., 6.])"
      ]
     },
     "execution_count": 78,
     "metadata": {},
     "output_type": "execute_result"
    }
   ],
   "source": [
    "#let convert the data type of array ssr \n",
    "ssr.astype('float')"
   ]
  },
  {
   "cell_type": "code",
   "execution_count": null,
   "id": "fd446ffe",
   "metadata": {},
   "outputs": [],
   "source": [
    "\"\"\" as you see the with help of astype function of numpy we convert all element of ssr array in float values \"\"\""
   ]
  },
  {
   "cell_type": "code",
   "execution_count": null,
   "id": "a35b7b50",
   "metadata": {},
   "outputs": [],
   "source": []
  },
  {
   "cell_type": "markdown",
   "id": "ddbb5553",
   "metadata": {},
   "source": [
    "# indexing and slicing"
   ]
  },
  {
   "cell_type": "code",
   "execution_count": 88,
   "id": "f811d009",
   "metadata": {},
   "outputs": [
    {
     "data": {
      "text/plain": [
       "array([ 1,  3,  5,  7,  9, 11, 13])"
      ]
     },
     "execution_count": 88,
     "metadata": {},
     "output_type": "execute_result"
    }
   ],
   "source": [
    "# let do with example\n",
    "b1=np.arange(1,15,2)\n",
    "b1"
   ]
  },
  {
   "cell_type": "code",
   "execution_count": 89,
   "id": "db6538c3",
   "metadata": {},
   "outputs": [
    {
     "data": {
      "text/plain": [
       "1"
      ]
     },
     "execution_count": 89,
     "metadata": {},
     "output_type": "execute_result"
    }
   ],
   "source": [
    "b1[0] # here is we see that we ask numpy to give b1 of [0] index it give us the element of index 0 that is 1"
   ]
  },
  {
   "cell_type": "code",
   "execution_count": 90,
   "id": "dcc7e338",
   "metadata": {},
   "outputs": [
    {
     "data": {
      "text/plain": [
       "11"
      ]
     },
     "execution_count": 90,
     "metadata": {},
     "output_type": "execute_result"
    }
   ],
   "source": [
    "b1[5] # here is we see that we numpy to give b1 of [5] index it give us the element of index 5 that is 11"
   ]
  },
  {
   "cell_type": "code",
   "execution_count": 91,
   "id": "9ff45a7e",
   "metadata": {},
   "outputs": [
    {
     "data": {
      "text/plain": [
       "13"
      ]
     },
     "execution_count": 91,
     "metadata": {},
     "output_type": "execute_result"
    }
   ],
   "source": [
    "b1[-1] # here is we see that we numpy to give b1 of [-1] index it give us the element of index -1 that is 13"
   ]
  },
  {
   "cell_type": "code",
   "execution_count": null,
   "id": "3d9552d1",
   "metadata": {},
   "outputs": [],
   "source": []
  },
  {
   "cell_type": "markdown",
   "id": "2038049a",
   "metadata": {},
   "source": [
    "# SLICING "
   ]
  },
  {
   "cell_type": "code",
   "execution_count": 107,
   "id": "99212773",
   "metadata": {},
   "outputs": [
    {
     "data": {
      "text/plain": [
       "array([20, 21, 22, 23, 24, 25, 26, 27, 28, 29, 30, 31, 32, 33, 34, 35, 36,\n",
       "       37, 38, 39])"
      ]
     },
     "execution_count": 107,
     "metadata": {},
     "output_type": "execute_result"
    }
   ],
   "source": [
    "#LETS DO WITH AN EXAMPLE\n",
    "c1=np.arange(20,40)\n",
    "c1"
   ]
  },
  {
   "cell_type": "code",
   "execution_count": 108,
   "id": "4469c12e",
   "metadata": {},
   "outputs": [
    {
     "data": {
      "text/plain": [
       "array([39, 38, 37, 36, 35, 34, 33, 32, 31, 30, 29, 28, 27, 26, 25, 24, 23,\n",
       "       22, 21, 20])"
      ]
     },
     "execution_count": 108,
     "metadata": {},
     "output_type": "execute_result"
    }
   ],
   "source": [
    "# now we make a slice of it\n",
    "#reverse array\n",
    "c1[::-1]"
   ]
  },
  {
   "cell_type": "code",
   "execution_count": 109,
   "id": "dde0df13",
   "metadata": {},
   "outputs": [
    {
     "data": {
      "text/plain": [
       "array([20, 22, 24, 26, 28, 30, 32, 34, 36, 38])"
      ]
     },
     "execution_count": 109,
     "metadata": {},
     "output_type": "execute_result"
    }
   ],
   "source": [
    "#with the jump\n",
    "c1[::2]"
   ]
  },
  {
   "cell_type": "code",
   "execution_count": 111,
   "id": "1a355e97",
   "metadata": {},
   "outputs": [
    {
     "data": {
      "text/plain": [
       "array([39, 36, 33, 30, 27, 24])"
      ]
     },
     "execution_count": 111,
     "metadata": {},
     "output_type": "execute_result"
    }
   ],
   "source": [
    "#let make  it little complex\n",
    "c1[-1:1:-3]"
   ]
  },
  {
   "cell_type": "code",
   "execution_count": null,
   "id": "896949cf",
   "metadata": {},
   "outputs": [],
   "source": []
  },
  {
   "cell_type": "code",
   "execution_count": null,
   "id": "c6454f39",
   "metadata": {},
   "outputs": [],
   "source": []
  },
  {
   "cell_type": "markdown",
   "id": "c607c8d4",
   "metadata": {},
   "source": [
    "# size "
   ]
  },
  {
   "cell_type": "code",
   "execution_count": 92,
   "id": "97ed7a65",
   "metadata": {},
   "outputs": [
    {
     "data": {
      "text/plain": [
       "7"
      ]
     },
     "execution_count": 92,
     "metadata": {},
     "output_type": "execute_result"
    }
   ],
   "source": [
    "b1.size"
   ]
  },
  {
   "cell_type": "code",
   "execution_count": 93,
   "id": "62202300",
   "metadata": {},
   "outputs": [],
   "source": [
    "# here is how we can get size of array"
   ]
  },
  {
   "cell_type": "code",
   "execution_count": null,
   "id": "870adcec",
   "metadata": {},
   "outputs": [],
   "source": []
  },
  {
   "cell_type": "markdown",
   "id": "10446bc9",
   "metadata": {},
   "source": [
    "# sum"
   ]
  },
  {
   "cell_type": "code",
   "execution_count": 94,
   "id": "9bda2d8f",
   "metadata": {},
   "outputs": [
    {
     "data": {
      "text/plain": [
       "49"
      ]
     },
     "execution_count": 94,
     "metadata": {},
     "output_type": "execute_result"
    }
   ],
   "source": [
    "b1.sum()"
   ]
  },
  {
   "cell_type": "code",
   "execution_count": 95,
   "id": "3f8cec85",
   "metadata": {},
   "outputs": [],
   "source": [
    "# here is how we get sum of array b1"
   ]
  },
  {
   "cell_type": "code",
   "execution_count": null,
   "id": "38174d8e",
   "metadata": {},
   "outputs": [],
   "source": []
  },
  {
   "cell_type": "markdown",
   "id": "ac01edb7",
   "metadata": {},
   "source": [
    "# how to get multiple index of array "
   ]
  },
  {
   "cell_type": "code",
   "execution_count": 101,
   "id": "fc38c3a6",
   "metadata": {},
   "outputs": [
    {
     "data": {
      "text/plain": [
       "array([ 1,  4,  7, 10, 13, 16, 19])"
      ]
     },
     "execution_count": 101,
     "metadata": {},
     "output_type": "execute_result"
    }
   ],
   "source": [
    "#lets see with help of example\n",
    "d1=np.arange(1,20,3)\n",
    "d1"
   ]
  },
  {
   "cell_type": "code",
   "execution_count": 105,
   "id": "5e047685",
   "metadata": {},
   "outputs": [
    {
     "data": {
      "text/plain": [
       "array([ 7, 13, 10])"
      ]
     },
     "execution_count": 105,
     "metadata": {},
     "output_type": "execute_result"
    }
   ],
   "source": [
    "# and we want to see some value of an MULTIPLE INDEX\n",
    "# LET DO IT \n",
    "\n",
    "d1[[2,4,3]]"
   ]
  },
  {
   "cell_type": "code",
   "execution_count": null,
   "id": "0f4353aa",
   "metadata": {},
   "outputs": [],
   "source": [
    "\"\"\" AS WE CAN SEE, NUMPY GIVE US THE VALUES WHICH ARE PRESENT ON INDEX 2 ,  4  , 3 \"\"\""
   ]
  },
  {
   "cell_type": "code",
   "execution_count": null,
   "id": "b98d6cae",
   "metadata": {},
   "outputs": [],
   "source": []
  },
  {
   "cell_type": "markdown",
   "id": "03656c61",
   "metadata": {},
   "source": [
    "# BOOLEN INDEXING"
   ]
  },
  {
   "cell_type": "code",
   "execution_count": 115,
   "id": "10268fa6",
   "metadata": {},
   "outputs": [
    {
     "data": {
      "text/plain": [
       "array([ 4,  5,  6,  7,  8,  9, 10, 11, 12, 13, 14, 15, 16, 17, 18, 19])"
      ]
     },
     "execution_count": 115,
     "metadata": {},
     "output_type": "execute_result"
    }
   ],
   "source": [
    "#let do it with help of example \n",
    "bo=np.arange(4,20)\n",
    "bo"
   ]
  },
  {
   "cell_type": "code",
   "execution_count": 117,
   "id": "4cdebff5",
   "metadata": {},
   "outputs": [
    {
     "data": {
      "text/plain": [
       "array([False, False, False,  True,  True,  True,  True,  True,  True,\n",
       "        True,  True,  True,  True,  True,  True,  True])"
      ]
     },
     "execution_count": 117,
     "metadata": {},
     "output_type": "execute_result"
    }
   ],
   "source": [
    "# if we want see how the give us true and false ON THE BASIS OF CONDITION WE GIVE TO THEM \n",
    "bo>6 # HERE IS OUR CONDITION TO SEE WHAT IS TRUE AND WHAT IS NOT \"\"\""
   ]
  },
  {
   "cell_type": "code",
   "execution_count": 119,
   "id": "90d41228",
   "metadata": {},
   "outputs": [
    {
     "data": {
      "text/plain": [
       "array([ 7,  8,  9, 10, 11, 12, 13, 14, 15, 16, 17, 18, 19])"
      ]
     },
     "execution_count": 119,
     "metadata": {},
     "output_type": "execute_result"
    }
   ],
   "source": [
    "#if we want see which value are satisfy our condition we do this \n",
    "\n",
    "bo[[False, False, False,  True,  True,  True,  True,  True,  True,\n",
    "        True,  True,  True,  True,  True,  True,  True]]"
   ]
  },
  {
   "cell_type": "code",
   "execution_count": null,
   "id": "23961bf7",
   "metadata": {},
   "outputs": [],
   "source": []
  },
  {
   "cell_type": "markdown",
   "id": "ff847332",
   "metadata": {},
   "source": [
    "# \"\"\"MASK\"\"\""
   ]
  },
  {
   "cell_type": "code",
   "execution_count": 121,
   "id": "f31f2407",
   "metadata": {},
   "outputs": [
    {
     "data": {
      "text/plain": [
       "array([False, False, False, False, False, False, False, False, False,\n",
       "       False, False, False,  True,  True,  True,  True])"
      ]
     },
     "execution_count": 121,
     "metadata": {},
     "output_type": "execute_result"
    }
   ],
   "source": [
    "mask=bo>15\n",
    "mask"
   ]
  },
  {
   "cell_type": "code",
   "execution_count": 57,
   "id": "180b5388",
   "metadata": {},
   "outputs": [
    {
     "ename": "NameError",
     "evalue": "name 'bo' is not defined",
     "output_type": "error",
     "traceback": [
      "\u001b[1;31m---------------------------------------------------------------------------\u001b[0m",
      "\u001b[1;31mNameError\u001b[0m                                 Traceback (most recent call last)",
      "Cell \u001b[1;32mIn[57], line 2\u001b[0m\n\u001b[0;32m      1\u001b[0m \u001b[38;5;66;03m#with the help of mask we can directly get the value which satisfy our condition\u001b[39;00m\n\u001b[1;32m----> 2\u001b[0m \u001b[43mbo\u001b[49m[mask]\n",
      "\u001b[1;31mNameError\u001b[0m: name 'bo' is not defined"
     ]
    }
   ],
   "source": [
    "#with the help of mask we can directly get the value which satisfy our condition\n",
    "mask[bo]"
   ]
  },
  {
   "cell_type": "code",
   "execution_count": null,
   "id": "bff9d221",
   "metadata": {},
   "outputs": [],
   "source": []
  },
  {
   "cell_type": "code",
   "execution_count": null,
   "id": "859c55e5",
   "metadata": {},
   "outputs": [],
   "source": []
  },
  {
   "cell_type": "code",
   "execution_count": 120,
   "id": "132f84a5",
   "metadata": {},
   "outputs": [
    {
     "data": {
      "text/plain": [
       "array([4, 5, 6, 7, 8, 9])"
      ]
     },
     "execution_count": 120,
     "metadata": {},
     "output_type": "execute_result"
    }
   ],
   "source": [
    "bo[bo<10]"
   ]
  },
  {
   "cell_type": "code",
   "execution_count": 126,
   "id": "b396992d",
   "metadata": {},
   "outputs": [
    {
     "data": {
      "text/plain": [
       "array([ 4,  6,  8, 10, 12, 14, 16, 18])"
      ]
     },
     "execution_count": 126,
     "metadata": {},
     "output_type": "execute_result"
    }
   ],
   "source": [
    "#here we give the condition get get even number and numpy show us the values which are fullfill this condition\n",
    "e=bo%2==0\n",
    "bo[e]"
   ]
  },
  {
   "cell_type": "code",
   "execution_count": 127,
   "id": "0ade8193",
   "metadata": {},
   "outputs": [
    {
     "data": {
      "text/plain": [
       "array([ 5,  7,  9, 11, 13, 15, 17, 19])"
      ]
     },
     "execution_count": 127,
     "metadata": {},
     "output_type": "execute_result"
    }
   ],
   "source": [
    "\n",
    "#here we give the condition get get ODD number and numpy show us the values which are fullfill this condition\n",
    "bo[bo%2!=0]\n",
    "\n"
   ]
  },
  {
   "cell_type": "code",
   "execution_count": null,
   "id": "bf53d0a6",
   "metadata": {},
   "outputs": [],
   "source": []
  },
  {
   "cell_type": "markdown",
   "id": "de896ff5",
   "metadata": {},
   "source": [
    "# NPS {USE CASE}"
   ]
  },
  {
   "cell_type": "code",
   "execution_count": 21,
   "id": "eefedad8",
   "metadata": {},
   "outputs": [
    {
     "data": {
      "text/plain": [
       "array([ 7., 10.,  5., ...,  5.,  9., 10.])"
      ]
     },
     "execution_count": 21,
     "metadata": {},
     "output_type": "execute_result"
    }
   ],
   "source": [
    "# this data is in float data type we know that ratings are not in float so we can change the data type of this data\n",
    "#with help dtype and astype functions\n",
    "scores = np.loadtxt('survey.txt')\n",
    "scores"
   ]
  },
  {
   "cell_type": "code",
   "execution_count": 20,
   "id": "2237a5f3",
   "metadata": {},
   "outputs": [
    {
     "data": {
      "text/plain": [
       "array([ 7, 10,  5, ...,  5,  9, 10])"
      ]
     },
     "execution_count": 20,
     "metadata": {},
     "output_type": "execute_result"
    }
   ],
   "source": [
    "#astype function\n",
    "scores.astype('int')"
   ]
  },
  {
   "cell_type": "code",
   "execution_count": 22,
   "id": "ac163877",
   "metadata": {},
   "outputs": [
    {
     "data": {
      "text/plain": [
       "array([ 7, 10,  5, ...,  5,  9, 10])"
      ]
     },
     "execution_count": 22,
     "metadata": {},
     "output_type": "execute_result"
    }
   ],
   "source": [
    "#dtype function\n",
    "scores = np.loadtxt('survey.txt',dtype='int')\n",
    "scores"
   ]
  },
  {
   "cell_type": "code",
   "execution_count": null,
   "id": "c935a558",
   "metadata": {},
   "outputs": [],
   "source": []
  },
  {
   "cell_type": "code",
   "execution_count": 41,
   "id": "8c4b2e61",
   "metadata": {},
   "outputs": [
    {
     "data": {
      "text/plain": [
       "1167"
      ]
     },
     "execution_count": 41,
     "metadata": {},
     "output_type": "execute_result"
    }
   ],
   "source": [
    "total=scores.size\n",
    "total"
   ]
  },
  {
   "cell_type": "code",
   "execution_count": null,
   "id": "62842307",
   "metadata": {},
   "outputs": [],
   "source": []
  },
  {
   "cell_type": "code",
   "execution_count": 25,
   "id": "8a47d914",
   "metadata": {},
   "outputs": [
    {
     "data": {
      "text/plain": [
       "1167"
      ]
     },
     "execution_count": 25,
     "metadata": {},
     "output_type": "execute_result"
    }
   ],
   "source": [
    "# NOW WE HAVE SEE HOW MANY CUSTOMERS ARE GET PARTICIPETED FOR THIS SURVEY \n",
    "#HOW NUMPY CAN HELP US TO DO SO \n",
    "# AS YOU NUMPY HAVE THE ATTRIBUTE CALLED .SIZE WHICH WILL RETURNS THE SIZE OF ARRAY,\n",
    "\"\"\" BY FINDING THE SIZE OF ARRAY WE CAN ANSWER HOW MANY PEOPLE GET PART IN THIS SURVEY\"\"\"\n",
    "\n",
    "scores.size"
   ]
  },
  {
   "cell_type": "code",
   "execution_count": 26,
   "id": "4ae3202e",
   "metadata": {},
   "outputs": [
    {
     "data": {
      "text/plain": [
       "(1167,)"
      ]
     },
     "execution_count": 26,
     "metadata": {},
     "output_type": "execute_result"
    }
   ],
   "source": [
    "# this also the way we can find the part\n",
    "scores.shape"
   ]
  },
  {
   "cell_type": "code",
   "execution_count": 34,
   "id": "23010030",
   "metadata": {},
   "outputs": [
    {
     "data": {
      "text/plain": [
       "1"
      ]
     },
     "execution_count": 34,
     "metadata": {},
     "output_type": "execute_result"
    }
   ],
   "source": [
    "#minimum of score\n",
    "scores.min()"
   ]
  },
  {
   "cell_type": "code",
   "execution_count": 32,
   "id": "e25231ac",
   "metadata": {},
   "outputs": [
    {
     "data": {
      "text/plain": [
       "10"
      ]
     },
     "execution_count": 32,
     "metadata": {},
     "output_type": "execute_result"
    }
   ],
   "source": [
    "#naximum of scores\n",
    "scores.max()"
   ]
  },
  {
   "cell_type": "code",
   "execution_count": 36,
   "id": "174c43d4",
   "metadata": {},
   "outputs": [],
   "source": [
    "#how can we find the number of promoters from our survey "
   ]
  },
  {
   "cell_type": "code",
   "execution_count": 37,
   "id": "59b98cab",
   "metadata": {},
   "outputs": [
    {
     "data": {
      "text/plain": [
       "array([10,  9,  9,  9,  9,  9, 10,  9,  9, 10,  9,  9,  9,  9,  9,  9,  9,\n",
       "       10, 10,  9, 10,  9, 10,  9,  9, 10, 10,  9, 10,  9, 10, 10, 10,  9,\n",
       "        9, 10, 10, 10,  9, 10,  9, 10,  9,  9,  9, 10,  9,  9,  9,  9,  9,\n",
       "        9, 10,  9,  9,  9, 10,  9, 10,  9,  9,  9,  9,  9, 10, 10,  9, 10,\n",
       "        9,  9, 10,  9,  9, 10,  9,  9,  9,  9,  9,  9,  9,  9,  9,  9,  9,\n",
       "       10,  9,  9,  9,  9,  9,  9,  9,  9, 10,  9,  9,  9,  9,  9, 10, 10,\n",
       "        9, 10, 10, 10, 10,  9, 10,  9,  9,  9,  9,  9,  9,  9, 10,  9, 10,\n",
       "        9, 10,  9, 10, 10, 10,  9,  9, 10, 10,  9,  9,  9,  9, 10,  9,  9,\n",
       "        9,  9, 10, 10,  9,  9,  9, 10,  9,  9,  9,  9,  9, 10,  9,  9,  9,\n",
       "       10,  9, 10, 10,  9,  9,  9,  9, 10,  9, 10,  9,  9,  9,  9, 10,  9,\n",
       "       10,  9,  9,  9,  9,  9,  9,  9,  9,  9,  9,  9, 10, 10,  9,  9,  9,\n",
       "       10,  9, 10, 10, 10, 10, 10,  9,  9,  9,  9, 10, 10, 10,  9,  9, 10,\n",
       "        9, 10, 10, 10, 10,  9, 10, 10,  9, 10,  9,  9,  9,  9, 10,  9, 10,\n",
       "        9, 10,  9,  9,  9,  9, 10,  9,  9,  9,  9,  9, 10,  9, 10, 10,  9,\n",
       "       10, 10, 10,  9,  9,  9,  9,  9,  9, 10,  9,  9, 10,  9, 10, 10,  9,\n",
       "        9,  9, 10, 10, 10, 10,  9,  9,  9, 10, 10,  9, 10,  9,  9,  9, 10,\n",
       "        9,  9,  9,  9,  9,  9,  9,  9,  9,  9, 10,  9,  9,  9, 10,  9, 10,\n",
       "        9, 10,  9, 10,  9,  9, 10, 10,  9,  9,  9, 10,  9,  9, 10,  9,  9,\n",
       "        9,  9,  9,  9, 10, 10,  9, 10,  9,  9,  9,  9, 10,  9,  9,  9,  9,\n",
       "       10,  9, 10,  9, 10,  9, 10, 10,  9, 10, 10,  9, 10,  9,  9,  9,  9,\n",
       "        9, 10,  9, 10, 10,  9, 10, 10,  9,  9, 10,  9, 10, 10,  9, 10, 10,\n",
       "       10,  9,  9,  9, 10,  9,  9,  9, 10,  9,  9,  9,  9,  9, 10,  9,  9,\n",
       "        9, 10,  9,  9,  9,  9,  9, 10,  9, 10,  9,  9, 10,  9,  9,  9,  9,\n",
       "        9,  9, 10,  9,  9,  9,  9,  9,  9,  9,  9,  9,  9, 10,  9, 10,  9,\n",
       "        9,  9,  9,  9,  9,  9,  9,  9,  9,  9,  9,  9,  9, 10, 10,  9,  9,\n",
       "        9,  9, 10,  9, 10,  9, 10, 10,  9,  9, 10,  9, 10, 10, 10,  9,  9,\n",
       "        9, 10, 10,  9,  9,  9, 10,  9,  9,  9,  9, 10,  9, 10,  9,  9, 10,\n",
       "        9,  9,  9, 10,  9,  9,  9,  9, 10,  9,  9,  9,  9,  9,  9, 10,  9,\n",
       "       10, 10,  9,  9,  9, 10, 10, 10, 10,  9,  9, 10, 10,  9, 10,  9, 10,\n",
       "        9, 10,  9,  9, 10,  9, 10, 10,  9,  9,  9,  9,  9,  9,  9,  9,  9,\n",
       "        9,  9,  9,  9,  9,  9,  9,  9,  9,  9,  9,  9,  9,  9,  9,  9,  9,\n",
       "       10, 10,  9,  9,  9,  9, 10, 10,  9, 10, 10,  9, 10, 10,  9, 10, 10,\n",
       "       10,  9,  9, 10, 10, 10,  9,  9, 10, 10,  9,  9,  9,  9,  9,  9, 10,\n",
       "       10, 10, 10, 10, 10,  9,  9,  9,  9, 10, 10,  9,  9,  9,  9,  9, 10,\n",
       "       10,  9, 10, 10,  9, 10, 10,  9, 10, 10,  9, 10,  9, 10, 10,  9, 10,\n",
       "       10,  9,  9,  9,  9, 10,  9,  9, 10, 10, 10, 10,  9, 10])"
      ]
     },
     "execution_count": 37,
     "metadata": {},
     "output_type": "execute_result"
    }
   ],
   "source": [
    "# this is how find who are the promoters are but we have to number of this this we can do in seconde step \n",
    "scores[scores>8]"
   ]
  },
  {
   "cell_type": "code",
   "execution_count": 42,
   "id": "aa097eb2",
   "metadata": {},
   "outputs": [
    {
     "data": {
      "text/plain": [
       "609"
      ]
     },
     "execution_count": 42,
     "metadata": {},
     "output_type": "execute_result"
    }
   ],
   "source": [
    "# is how we can get he number with help of size attribute\n",
    "promoters =scores[scores>8].size\n",
    "promoters"
   ]
  },
  {
   "cell_type": "code",
   "execution_count": null,
   "id": "6646297e",
   "metadata": {},
   "outputs": [],
   "source": []
  },
  {
   "cell_type": "code",
   "execution_count": null,
   "id": "4bfc02d5",
   "metadata": {},
   "outputs": [],
   "source": [
    "# HOW TO FIND THE PERCENTAGE OF PROMOTERS"
   ]
  },
  {
   "cell_type": "code",
   "execution_count": 44,
   "id": "c82a8288",
   "metadata": {},
   "outputs": [
    {
     "data": {
      "text/plain": [
       "52.185089974293064"
      ]
     },
     "execution_count": 44,
     "metadata": {},
     "output_type": "execute_result"
    }
   ],
   "source": [
    "promoters_percentage = promoters/total*100\n",
    "promoters_percentage"
   ]
  },
  {
   "cell_type": "code",
   "execution_count": null,
   "id": "8cf2c70c",
   "metadata": {},
   "outputs": [],
   "source": []
  },
  {
   "cell_type": "code",
   "execution_count": 50,
   "id": "8fd45a0c",
   "metadata": {},
   "outputs": [
    {
     "data": {
      "text/plain": [
       "332"
      ]
     },
     "execution_count": 50,
     "metadata": {},
     "output_type": "execute_result"
    }
   ],
   "source": [
    "#HOW TO FIND THE DETRACTORS\n",
    "DETRACTORS=scores[scores<7].size\n",
    "DETRACTORS"
   ]
  },
  {
   "cell_type": "code",
   "execution_count": null,
   "id": "829493bf",
   "metadata": {},
   "outputs": [],
   "source": []
  },
  {
   "cell_type": "code",
   "execution_count": null,
   "id": "b3fa6c48",
   "metadata": {},
   "outputs": [],
   "source": [
    "\"\"\"HOW TO FIND DETRACTORS PERCENTAGE\"\"\""
   ]
  },
  {
   "cell_type": "code",
   "execution_count": 51,
   "id": "37866a13",
   "metadata": {},
   "outputs": [
    {
     "data": {
      "text/plain": [
       "28.449014567266495"
      ]
     },
     "execution_count": 51,
     "metadata": {},
     "output_type": "execute_result"
    }
   ],
   "source": [
    "DETRACTORS_PERCENTAGE=DETRACTORS/total*100\n",
    "DETRACTORS_PERCENTAGE"
   ]
  },
  {
   "cell_type": "code",
   "execution_count": 48,
   "id": "6983dad7",
   "metadata": {},
   "outputs": [],
   "source": [
    "#THIS IS HOW WE CAN FIND THE DETRACTORS PERCENTAGE"
   ]
  },
  {
   "cell_type": "markdown",
   "id": "864bee55",
   "metadata": {},
   "source": []
  },
  {
   "cell_type": "markdown",
   "id": "29a9a7b6",
   "metadata": {},
   "source": [
    "\n",
    "# NOW WE CAN FIND THE NPS FOR Airbnb "
   ]
  },
  {
   "cell_type": "code",
   "execution_count": null,
   "id": "668cd838",
   "metadata": {},
   "outputs": [],
   "source": []
  },
  {
   "cell_type": "code",
   "execution_count": 53,
   "id": "397f2a10",
   "metadata": {},
   "outputs": [
    {
     "data": {
      "text/plain": [
       "23.73607540702657"
      ]
     },
     "execution_count": 53,
     "metadata": {},
     "output_type": "execute_result"
    }
   ],
   "source": [
    "NPS = promoters_percentage - DETRACTORS_PERCENTAGE\n",
    "NPS"
   ]
  },
  {
   "cell_type": "code",
   "execution_count": 54,
   "id": "57908b7a",
   "metadata": {},
   "outputs": [
    {
     "data": {
      "text/plain": [
       "23.74"
      ]
     },
     "execution_count": 54,
     "metadata": {},
     "output_type": "execute_result"
    }
   ],
   "source": [
    "#let make it round by \n",
    "round(NPS,2)"
   ]
  },
  {
   "cell_type": "code",
   "execution_count": null,
   "id": "163b5181",
   "metadata": {},
   "outputs": [],
   "source": []
  },
  {
   "cell_type": "code",
   "execution_count": null,
   "id": "31e9ac02",
   "metadata": {},
   "outputs": [],
   "source": []
  },
  {
   "cell_type": "code",
   "execution_count": null,
   "id": "76f3fdcf",
   "metadata": {},
   "outputs": [],
   "source": []
  },
  {
   "cell_type": "code",
   "execution_count": null,
   "id": "edac3ca1",
   "metadata": {},
   "outputs": [],
   "source": []
  },
  {
   "cell_type": "code",
   "execution_count": null,
   "id": "68476562",
   "metadata": {},
   "outputs": [],
   "source": []
  },
  {
   "cell_type": "code",
   "execution_count": null,
   "id": "687bc1a8",
   "metadata": {},
   "outputs": [],
   "source": []
  },
  {
   "cell_type": "code",
   "execution_count": null,
   "id": "0eac450f",
   "metadata": {},
   "outputs": [],
   "source": []
  },
  {
   "cell_type": "code",
   "execution_count": null,
   "id": "eb883fc2",
   "metadata": {},
   "outputs": [],
   "source": []
  },
  {
   "cell_type": "code",
   "execution_count": null,
   "id": "eae2c1bd",
   "metadata": {},
   "outputs": [],
   "source": []
  }
 ],
 "metadata": {
  "kernelspec": {
   "display_name": "Python 3 (ipykernel)",
   "language": "python",
   "name": "python3"
  },
  "language_info": {
   "codemirror_mode": {
    "name": "ipython",
    "version": 3
   },
   "file_extension": ".py",
   "mimetype": "text/x-python",
   "name": "python",
   "nbconvert_exporter": "python",
   "pygments_lexer": "ipython3",
   "version": "3.10.9"
  }
 },
 "nbformat": 4,
 "nbformat_minor": 5
}
