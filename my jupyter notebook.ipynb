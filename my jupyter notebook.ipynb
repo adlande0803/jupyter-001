{
 "cells": [
  {
   "cell_type": "markdown",
   "id": "a9a84aa8",
   "metadata": {},
   "source": [
    "# function 1"
   ]
  },
  {
   "cell_type": "markdown",
   "id": "74bf7386",
   "metadata": {},
   "source": [
    "#### Removing the values"
   ]
  },
  {
   "cell_type": "code",
   "execution_count": 1,
   "id": "01faf49b",
   "metadata": {},
   "outputs": [
    {
     "name": "stdout",
     "output_type": "stream",
     "text": [
      "2\n"
     ]
    }
   ],
   "source": [
    "print(\"2\")"
   ]
  },
  {
   "cell_type": "code",
   "execution_count": 3,
   "id": "b56008f4",
   "metadata": {},
   "outputs": [
    {
     "name": "stdout",
     "output_type": "stream",
     "text": [
      "2\n",
      "2\n",
      "2\n",
      "2\n"
     ]
    }
   ],
   "source": [
    "for i in range(4):\n",
    "    print(1*2)"
   ]
  },
  {
   "cell_type": "code",
   "execution_count": 5,
   "id": "563fd75d",
   "metadata": {},
   "outputs": [
    {
     "ename": "SyntaxError",
     "evalue": "invalid syntax (1785324715.py, line 1)",
     "output_type": "error",
     "traceback": [
      "\u001b[1;36m  Cell \u001b[1;32mIn[5], line 1\u001b[1;36m\u001b[0m\n\u001b[1;33m    import Numpy:\u001b[0m\n\u001b[1;37m                ^\u001b[0m\n\u001b[1;31mSyntaxError\u001b[0m\u001b[1;31m:\u001b[0m invalid syntax\n"
     ]
    }
   ],
   "source": [
    "import Numpy:"
   ]
  },
  {
   "cell_type": "code",
   "execution_count": null,
   "id": "92b64025",
   "metadata": {},
   "outputs": [],
   "source": []
  }
 ],
 "metadata": {
  "kernelspec": {
   "display_name": "Python 3 (ipykernel)",
   "language": "python",
   "name": "python3"
  },
  "language_info": {
   "codemirror_mode": {
    "name": "ipython",
    "version": 3
   },
   "file_extension": ".py",
   "mimetype": "text/x-python",
   "name": "python",
   "nbconvert_exporter": "python",
   "pygments_lexer": "ipython3",
   "version": "3.10.9"
  }
 },
 "nbformat": 4,
 "nbformat_minor": 5
}
